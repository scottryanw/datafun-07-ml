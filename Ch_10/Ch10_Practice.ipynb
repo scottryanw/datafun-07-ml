{
 "cells": [
  {
   "cell_type": "code",
   "execution_count": 8,
   "metadata": {},
   "outputs": [],
   "source": [
    "# Importing Classes Account and Decimal\n",
    "from account import Account\n",
    "\n",
    "from decimal import Decimal"
   ]
  },
  {
   "cell_type": "code",
   "execution_count": 9,
   "metadata": {},
   "outputs": [
    {
     "data": {
      "text/plain": [
       "Decimal('75.53')"
      ]
     },
     "execution_count": 9,
     "metadata": {},
     "output_type": "execute_result"
    }
   ],
   "source": [
    "# Create an Account Object with a Constructor Expression\n",
    "account1 = Account('John Green', Decimal('50.00'))\n",
    "\n",
    "# Getting an Account’s Name and Balance\n",
    "account1.name\n",
    "\n",
    "account1.balance\n",
    "\n",
    "# Depositing Money into an Account\n",
    "account1.deposit(Decimal('25.53'))\n",
    "\n",
    "account1.balance\n",
    "\n",
    "# Account Methods Perform Validation\n",
    "#account1.deposit(Decimal('123.45'))\n",
    "    \n",
    "# Section 10.2.2\n",
    "# Defining a Class \n",
    "#Account?"
   ]
  },
  {
   "cell_type": "code",
   "execution_count": null,
   "metadata": {},
   "outputs": [],
   "source": []
  }
 ],
 "metadata": {
  "kernelspec": {
   "display_name": ".venv",
   "language": "python",
   "name": "python3"
  },
  "language_info": {
   "codemirror_mode": {
    "name": "ipython",
    "version": 3
   },
   "file_extension": ".py",
   "mimetype": "text/x-python",
   "name": "python",
   "nbconvert_exporter": "python",
   "pygments_lexer": "ipython3",
   "version": "3.12.3"
  }
 },
 "nbformat": 4,
 "nbformat_minor": 2
}
